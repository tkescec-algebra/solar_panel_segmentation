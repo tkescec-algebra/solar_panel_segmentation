{
 "cells": [
  {
   "metadata": {
    "ExecuteTime": {
     "end_time": "2024-09-04T15:49:12.519157Z",
     "start_time": "2024-09-04T15:49:12.431905Z"
    }
   },
   "cell_type": "code",
   "source": [
    "from src.train.train_models import train_model\n",
    "from src.utils.plot_metrics import plot_metrics\n",
    "\n",
    "# DeepLabV3 Resnet50\n",
    "train_losses1, val_losses1, val_iou_scores1, val_f1_scores1 = train_model(\n",
    "   epochs=20,\n",
    "   batch_size=2,\n",
    "   lr=0.01,\n",
    "   model_name='deeplabv3_resnet50',\n",
    "   criterion_name='BCEWithLogitsLoss'\n",
    ")\n",
    "# train_losses2, val_losses2, val_iou_scores2, val_f1_scores2 = train_model(\n",
    "#     epochs=20,\n",
    "#     batch_size=2,\n",
    "#     lr=0.01,\n",
    "#     model_name='deeplabv3_resnet50',\n",
    "#     criterion_name='L1Loss'\n",
    "# )\n",
    "# \n",
    "# # FCN Resnet50\n",
    "train_losses3, val_losses3, val_iou_scores3, val_f1_scores3 = train_model(\n",
    "   epochs=20,\n",
    "   batch_size=2,\n",
    "   lr=0.01,\n",
    "   model_name='fcn_resnet50',\n",
    "   criterion_name='BCEWithLogitsLoss'\n",
    ")\n",
    "# train_losses4, val_losses4, val_iou_scores4, val_f1_scores4 = train_model(\n",
    "#     epochs=20,\n",
    "#     batch_size=2,\n",
    "#     lr=0.01,\n",
    "#     model_name='fcn_resnet50',\n",
    "#     criterion_name='L1Loss'\n",
    "# )\n",
    "# \n",
    "# # Custom UNet\n",
    "# train_losses5, val_losses5, val_iou_scores5, val_f1_scores5 = train_model(\n",
    "#     epochs=20,\n",
    "#     batch_size=2,\n",
    "#     lr=0.01,\n",
    "#     model_name='custom_unet',\n",
    "#     criterion_name='BCEWithLogitsLoss'\n",
    "# )\n",
    "# train_losses6, val_losses6, val_iou_scores6, val_f1_scores6 = train_model(\n",
    "#     epochs=20,\n",
    "#     batch_size=2,\n",
    "#     lr=0.01,\n",
    "#     model_name='custom_unet',\n",
    "#     criterion_name='L1Loss'\n",
    "# )\n",
    "\n",
    "# Plot the train losses\n",
    "train_losses = [\n",
    "    {'deeplabv3_resnet50_BCEWithLogitsLoss': train_losses1},\n",
    "    # {'deeplabv3_resnet50_L1Loss': train_losses2},\n",
    "    {'fcn_resnet50_BCEWithLogitsLoss': train_losses3},\n",
    "    # {'fcn_resnet50_L1Loss': train_losses4},\n",
    "    # {'custom_unet_BCEWithLogitsLoss': train_losses5},\n",
    "    # {'custom_unet_L1Loss': train_losses6}\n",
    "]\n",
    "plot_metrics(train_losses, 'Training Losses Comparison', 'Epochs', 'Loss', 'Model and Loss Function')\n",
    "\n",
    "# Plot the validation losses\n",
    "val_losses = [\n",
    "    {'deeplabv3_resnet50_BCEWithLogitsLoss': val_losses1},\n",
    "    # {'deeplabv3_resnet50_L1Loss': val_losses2},\n",
    "    {'fcn_resnet50_BCEWithLogitsLoss': val_losses3},\n",
    "    # {'fcn_resnet50_L1Loss': val_losses4},\n",
    "    # {'custom_unet_BCEWithLogitsLoss': val_losses5},\n",
    "    # {'custom_unet_L1Loss': val_losses6}\n",
    "]\n",
    "plot_metrics(val_losses, 'Validation Losses Comparison', 'Epochs', 'Loss', 'Model and Loss Function')\n",
    "\n",
    "# Plot the validation iou scores\n",
    "val_iou_scores = [\n",
    "    {'deeplabv3_resnet50_BCEWithLogitsLoss': val_iou_scores1},\n",
    "    # {'deeplabv3_resnet50_L1Loss': val_iou_scores2},\n",
    "    {'fcn_resnet50_BCEWithLogitsLoss': val_iou_scores3},\n",
    "    # {'fcn_resnet50_L1Loss': val_iou_scores4},\n",
    "    # {'custom_unet_BCEWithLogitsLoss': val_iou_scores5},\n",
    "    # {'custom_unet_L1Loss': val_iou_scores6}\n",
    "]\n",
    "plot_metrics(val_iou_scores, 'Validation IoU Scores Comparison', 'Epochs', 'IoU Score', 'Model and IoU Score')\n",
    "\n",
    "# Plot the validation f1 scores\n",
    "val_f1_scores = [\n",
    "    {'deeplabv3_resnet50_BCEWithLogitsLoss': val_f1_scores1},\n",
    "    # {'deeplabv3_resnet50_L1Loss': val_f1_scores2},\n",
    "    {'fcn_resnet50_BCEWithLogitsLoss': val_f1_scores3},\n",
    "    # {'fcn_resnet50_L1Loss': val_f1_scores4},\n",
    "    # {'custom_unet_BCEWithLogitsLoss': val_f1_scores5},\n",
    "    # {'custom_unet_L1Loss': val_f1_scores6}\n",
    "]\n",
    "plot_metrics(val_f1_scores, 'Validation F1 Scores Comparison', 'Epochs', 'F1 Score', 'Model and F1 Score')"
   ],
   "id": "a5ef21cc7a5170ba",
   "outputs": [
    {
     "name": "stdout",
     "output_type": "stream",
     "text": [
      "Training deeplabv3_resnet50 with BCEWithLogitsLoss loss function for 20 epochs with batch size 2 and learning rate 0.01\n"
     ]
    },
    {
     "ename": "FileNotFoundError",
     "evalue": "[WinError 3] The system cannot find the path specified: 'data/train/images'",
     "output_type": "error",
     "traceback": [
      "\u001B[1;31m---------------------------------------------------------------------------\u001B[0m",
      "\u001B[1;31mFileNotFoundError\u001B[0m                         Traceback (most recent call last)",
      "Cell \u001B[1;32mIn[4], line 5\u001B[0m\n\u001B[0;32m      2\u001B[0m \u001B[38;5;28;01mfrom\u001B[39;00m \u001B[38;5;21;01msrc\u001B[39;00m\u001B[38;5;21;01m.\u001B[39;00m\u001B[38;5;21;01mutils\u001B[39;00m\u001B[38;5;21;01m.\u001B[39;00m\u001B[38;5;21;01mplot_metrics\u001B[39;00m \u001B[38;5;28;01mimport\u001B[39;00m plot_metrics\n\u001B[0;32m      4\u001B[0m \u001B[38;5;66;03m# DeepLabV3 Resnet50\u001B[39;00m\n\u001B[1;32m----> 5\u001B[0m train_losses1, val_losses1, val_iou_scores1, val_f1_scores1 \u001B[38;5;241m=\u001B[39m \u001B[43mtrain_model\u001B[49m\u001B[43m(\u001B[49m\n\u001B[0;32m      6\u001B[0m \u001B[43m   \u001B[49m\u001B[43mepochs\u001B[49m\u001B[38;5;241;43m=\u001B[39;49m\u001B[38;5;241;43m20\u001B[39;49m\u001B[43m,\u001B[49m\n\u001B[0;32m      7\u001B[0m \u001B[43m   \u001B[49m\u001B[43mbatch_size\u001B[49m\u001B[38;5;241;43m=\u001B[39;49m\u001B[38;5;241;43m2\u001B[39;49m\u001B[43m,\u001B[49m\n\u001B[0;32m      8\u001B[0m \u001B[43m   \u001B[49m\u001B[43mlr\u001B[49m\u001B[38;5;241;43m=\u001B[39;49m\u001B[38;5;241;43m0.01\u001B[39;49m\u001B[43m,\u001B[49m\n\u001B[0;32m      9\u001B[0m \u001B[43m   \u001B[49m\u001B[43mmodel_name\u001B[49m\u001B[38;5;241;43m=\u001B[39;49m\u001B[38;5;124;43m'\u001B[39;49m\u001B[38;5;124;43mdeeplabv3_resnet50\u001B[39;49m\u001B[38;5;124;43m'\u001B[39;49m\u001B[43m,\u001B[49m\n\u001B[0;32m     10\u001B[0m \u001B[43m   \u001B[49m\u001B[43mcriterion_name\u001B[49m\u001B[38;5;241;43m=\u001B[39;49m\u001B[38;5;124;43m'\u001B[39;49m\u001B[38;5;124;43mBCEWithLogitsLoss\u001B[39;49m\u001B[38;5;124;43m'\u001B[39;49m\n\u001B[0;32m     11\u001B[0m \u001B[43m)\u001B[49m\n\u001B[0;32m     12\u001B[0m \u001B[38;5;66;03m# train_losses2, val_losses2, val_iou_scores2, val_f1_scores2 = train_model(\u001B[39;00m\n\u001B[0;32m     13\u001B[0m \u001B[38;5;66;03m#     epochs=20,\u001B[39;00m\n\u001B[0;32m     14\u001B[0m \u001B[38;5;66;03m#     batch_size=2,\u001B[39;00m\n\u001B[1;32m   (...)\u001B[0m\n\u001B[0;32m     19\u001B[0m \u001B[38;5;66;03m# \u001B[39;00m\n\u001B[0;32m     20\u001B[0m \u001B[38;5;66;03m# # FCN Resnet50\u001B[39;00m\n\u001B[0;32m     21\u001B[0m train_losses3, val_losses3, val_iou_scores3, val_f1_scores3 \u001B[38;5;241m=\u001B[39m train_model(\n\u001B[0;32m     22\u001B[0m    epochs\u001B[38;5;241m=\u001B[39m\u001B[38;5;241m20\u001B[39m,\n\u001B[0;32m     23\u001B[0m    batch_size\u001B[38;5;241m=\u001B[39m\u001B[38;5;241m2\u001B[39m,\n\u001B[1;32m   (...)\u001B[0m\n\u001B[0;32m     26\u001B[0m    criterion_name\u001B[38;5;241m=\u001B[39m\u001B[38;5;124m'\u001B[39m\u001B[38;5;124mBCEWithLogitsLoss\u001B[39m\u001B[38;5;124m'\u001B[39m\n\u001B[0;32m     27\u001B[0m )\n",
      "File \u001B[1;32mE:\\MyData\\AI-ML\\SolarPanelProject\\src\\train\\train_models.py:26\u001B[0m, in \u001B[0;36mtrain_model\u001B[1;34m(epochs, batch_size, lr, model_name, criterion_name)\u001B[0m\n\u001B[0;32m     23\u001B[0m val_masks_dir \u001B[38;5;241m=\u001B[39m \u001B[38;5;124m'\u001B[39m\u001B[38;5;124mdata/val/masks\u001B[39m\u001B[38;5;124m'\u001B[39m\n\u001B[0;32m     25\u001B[0m \u001B[38;5;66;03m# Get all files in the directory\u001B[39;00m\n\u001B[1;32m---> 26\u001B[0m train_image_files \u001B[38;5;241m=\u001B[39m [os\u001B[38;5;241m.\u001B[39mpath\u001B[38;5;241m.\u001B[39mjoin(train_images_dir, f) \u001B[38;5;28;01mfor\u001B[39;00m f \u001B[38;5;129;01min\u001B[39;00m \u001B[43mos\u001B[49m\u001B[38;5;241;43m.\u001B[39;49m\u001B[43mlistdir\u001B[49m\u001B[43m(\u001B[49m\u001B[43mtrain_images_dir\u001B[49m\u001B[43m)\u001B[49m]\n\u001B[0;32m     27\u001B[0m train_mask_files \u001B[38;5;241m=\u001B[39m [os\u001B[38;5;241m.\u001B[39mpath\u001B[38;5;241m.\u001B[39mjoin(train_masks_dir, f) \u001B[38;5;28;01mfor\u001B[39;00m f \u001B[38;5;129;01min\u001B[39;00m os\u001B[38;5;241m.\u001B[39mlistdir(train_masks_dir)]\n\u001B[0;32m     28\u001B[0m val_image_files \u001B[38;5;241m=\u001B[39m [os\u001B[38;5;241m.\u001B[39mpath\u001B[38;5;241m.\u001B[39mjoin(val_images_dir, f) \u001B[38;5;28;01mfor\u001B[39;00m f \u001B[38;5;129;01min\u001B[39;00m os\u001B[38;5;241m.\u001B[39mlistdir(val_images_dir)]\n",
      "\u001B[1;31mFileNotFoundError\u001B[0m: [WinError 3] The system cannot find the path specified: 'data/train/images'"
     ]
    }
   ],
   "execution_count": 4
  }
 ],
 "metadata": {
  "kernelspec": {
   "display_name": "Python 3",
   "language": "python",
   "name": "python3"
  },
  "language_info": {
   "codemirror_mode": {
    "name": "ipython",
    "version": 2
   },
   "file_extension": ".py",
   "mimetype": "text/x-python",
   "name": "python",
   "nbconvert_exporter": "python",
   "pygments_lexer": "ipython2",
   "version": "2.7.6"
  }
 },
 "nbformat": 4,
 "nbformat_minor": 5
}
